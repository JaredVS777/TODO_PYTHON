{
 "cells": [
  {
   "cell_type": "code",
   "execution_count": null,
   "id": "0a854bc6",
   "metadata": {},
   "outputs": [],
   "source": [
    "libro=open('J.K. Rowling - Harry Potter 3 - El Prisionero de Azkaban.txt',encoding=\"utf8\")\n",
    "datos=libro.read()\n",
    "datos=datos.split()\n",
    "lista=[]\n",
    "print(\"frecuencia de palabras\")\n",
    "for i in datos:\n",
    "    if i not in lista:\n",
    "        lista.append(i)\n",
    "        \n",
    "for i in range(0, len(lista)):\n",
    "    print('(',lista[i],',', lista.count(lista[i]),')')\n",
    "\n"
   ]
  },
  {
   "cell_type": "code",
   "execution_count": null,
   "id": "48f2b463",
   "metadata": {},
   "outputs": [],
   "source": [
    "##  Función que me permita ingresar una palabra y contabilizar las veces que se repite.\n",
    "palabra=input(\"Ingrese una Palabra\")\n",
    "repetida=lista.count(palabra)\n",
    "print(\"Palbra encontrada \",repetida,\" veces\")"
   ]
  },
  {
   "cell_type": "code",
   "execution_count": null,
   "id": "e5a7af1e",
   "metadata": {},
   "outputs": [],
   "source": [
    "## 2.- Función que contabilice los artículos y pronombres.\n",
    "\n",
    "## articulos y pronombres\n",
    "lista=listaPronombres=['el','la','los','la','yo','mi','conmigo','tu','usted','el','ella']\n",
    "print(\"PRONOMBRES Y ARTICULOS\")\n",
    "for i in datos:\n",
    "    if i  in lista:\n",
    "        lista.append(i)\n",
    "        \n",
    "for i in range(0, len(listaPronombres)):\n",
    "    print('(',listaPronombres[i],',', lista.count(listaPronombres[i]),')')"
   ]
  },
  {
   "cell_type": "code",
   "execution_count": null,
   "id": "7c4ed0b8",
   "metadata": {},
   "outputs": [],
   "source": [
    "## 3.- Función que contabilice los nombres propios (empiezan con mayúscula)\n",
    "\n",
    "lista=listaNombres=['Harry Potter','J.K. Rowling','RON WEASLEY','Hogwarts','Ron Weasly','Hermione Granger','Arthur Weasley','Potter','Harry']\n",
    "print(\"NOMBRES PROPIOS\")\n",
    "for i in datos:\n",
    "    if i  in listaNombres:\n",
    "        listaNombres.append(i)\n",
    "        \n",
    "for i in range(0, len(datos)):\n",
    "    print('(',listaNombres[i],',', lista.count(lista[i]),')')"
   ]
  },
  {
   "cell_type": "code",
   "execution_count": null,
   "id": "a4727110",
   "metadata": {},
   "outputs": [],
   "source": [
    "## 4.- Función que contabilice los signos de puntuación.\n",
    "lista=listaPuntuacion=['.',';',':','(',')','?','¿','-','!','...','+','*']\n",
    "print(\"SIGNOS DE PUNTUACION\")\n",
    "for i in datos:\n",
    "    if i  in lista:\n",
    "        listaPuntuacion.append(i)\n",
    "        \n",
    "for i in range(0, len(datos)):\n",
    "    print('(',listaPuntuacion[i],',', lista.count(lista[i]),')')\n"
   ]
  },
  {
   "cell_type": "code",
   "execution_count": null,
   "id": "a94de565",
   "metadata": {},
   "outputs": [],
   "source": [
    "\n",
    "\n",
    "\n",
    "    "
   ]
  },
  {
   "cell_type": "code",
   "execution_count": 5,
   "id": "40040e8d",
   "metadata": {},
   "outputs": [
    {
     "ename": "SyntaxError",
     "evalue": "unterminated string literal (detected at line 15) (3781167394.py, line 15)",
     "output_type": "error",
     "traceback": [
      "\u001b[1;36m  Cell \u001b[1;32mIn [5], line 15\u001b[1;36m\u001b[0m\n\u001b[1;33m    print({palabra}\" se repite {frecuencia} veces')\u001b[0m\n\u001b[1;37m                   ^\u001b[0m\n\u001b[1;31mSyntaxError\u001b[0m\u001b[1;31m:\u001b[0m unterminated string literal (detected at line 15)\n"
     ]
    }
   ],
   "source": [
    "def contar_palabras(archivo):\n",
    "  contador = {}\n",
    "  with open(archivo, 'r', encoding=\"utf8\") as f:\n",
    "    for line in f:\n",
    "      palabras = line.split()\n",
    "      for palabra in palabras:\n",
    "        if palabra in contador:\n",
    "          contador[palabra] += 1\n",
    "        else:\n",
    "            contador[palabra] = 1\n",
    "  return contador\n",
    "\n",
    "contador = contar_palabras('J.K. Rowling - Harry Potter 3 - El Prisionero de Azkaban.txt')\n",
    "for palabra, frecuencia in contador.items():\n",
    "  print({palabra}\" se repite {frecuencia} veces')\n",
    "\n"
   ]
  },
  {
   "cell_type": "code",
   "execution_count": 8,
   "id": "7d16e746",
   "metadata": {},
   "outputs": [
    {
     "name": "stdout",
     "output_type": "stream",
     "text": [
      "Ingresa la palabra que quieres buscar: hola\n",
      " \"hola\" se repite 2 veces en el archivo.\n"
     ]
    }
   ],
   "source": [
    "def contar_frecuencia(archivo):\n",
    "    palabra = input('Ingresa la palabra que quieres buscar: ')\n",
    "\n",
    "    with open(archivo, 'r', encoding=\"utf8\") as f:\n",
    "        # Abrir el archivo en modo lectura y leer su contenido en una cadena de texto\n",
    "        texto = f.read()\n",
    "\n",
    "    frecuencia = texto.count(palabra)\n",
    "     # Contar la frecuencia con la que se repite la palabra en el texto\n",
    "    print(f' \"{palabra}\" se repite {frecuencia} veces en el texto.')\n",
    "     # Mostrar el resultado en pantalla\n",
    "    \n",
    "contar_frecuencia('J.K. Rowling - Harry Potter 3 - El Prisionero de Azkaban.txt')\n",
    "\n"
   ]
  },
  {
   "cell_type": "code",
   "execution_count": 7,
   "id": "da5e6ee7",
   "metadata": {},
   "outputs": [
    {
     "name": "stdout",
     "output_type": "stream",
     "text": [
      "\"el\" se repite 4606 veces en el archivo.\n",
      "\"la\" se repite 7471 veces en el archivo.\n",
      "\"los\" se repite 1451 veces en el archivo.\n",
      "\"la\" se repite 7471 veces en el archivo.\n",
      "\"yo\" se repite 154 veces en el archivo.\n",
      "\"mi\" se repite 2408 veces en el archivo.\n",
      "\"conmigo\" se repite 16 veces en el archivo.\n",
      "\"tu\" se repite 759 veces en el archivo.\n",
      "\"usted\" se repite 40 veces en el archivo.\n",
      "\"ella\" se repite 194 veces en el archivo.\n"
     ]
    }
   ],
   "source": [
    "\n",
    "def buscar_pronombres(archivo, lista_pronombres):\n",
    "    with open(archivo, 'r',encoding=\"utf8\") as f:\n",
    "        texto = f.read()\n",
    "\n",
    "    for pronombre in lista_pronombres:\n",
    "        frecuencia = texto.count(pronombre)\n",
    "        print(f'\"{pronombre}\" se repite {frecuencia} veces en el texto.')\n",
    "\n",
    "lista_pronombres = ['el', 'la', 'los', 'la', 'yo', 'mi', 'conmigo', 'tu', 'usted', 'ella']\n",
    "buscar_pronombres('J.K. Rowling - Harry Potter 3 - El Prisionero de Azkaban.txt', lista_pronombres)\n"
   ]
  },
  {
   "cell_type": "code",
   "execution_count": 10,
   "id": "73f8e279",
   "metadata": {},
   "outputs": [
    {
     "name": "stdout",
     "output_type": "stream",
     "text": [
      "\"Harry Potter\" se repite 21 veces en el archivo.\n",
      "\"J.K. Rowling\" se repite 2 veces en el archivo.\n",
      "\"RON WEASLEY\" se repite 1 veces en el archivo.\n",
      "\"Hogwarts\" se repite 92 veces en el archivo.\n",
      "\"Ron Weasly\" se repite 0 veces en el archivo.\n",
      "\"Hermione Granger\" se repite 1 veces en el archivo.\n",
      "\"Arthur Weasley\" se repite 1 veces en el archivo.\n",
      "\"Potter\" se repite 107 veces en el archivo.\n",
      "\"Harry\" se repite 1928 veces en el archivo.\n"
     ]
    }
   ],
   "source": [
    "def contar_frecuencia_nombres_propios(archivo, listaPuntuacion):\n",
    "    with open(archivo, 'r',encoding=\"utf8\") as f:\n",
    "        texto = f.read()\n",
    "\n",
    "    for nombre in listaNombres:\n",
    "        frecuencia = texto.count(nombre)\n",
    "        print(f'\"{nombre}\" se repite {frecuencia} veces en el archivo.')\n",
    "\n",
    "listaNombres=['Harry Potter','J.K. Rowling','RON WEASLEY','Hogwarts','Ron Weasly','Hermione Granger','Arthur Weasley','Potter','Harry']\n",
    "contar_frecuencia_nombres_propios('J.K. Rowling - Harry Potter 3 - El Prisionero de Azkaban.txt', listaNombres)"
   ]
  },
  {
   "cell_type": "code",
   "execution_count": 17,
   "id": "4487a4f1",
   "metadata": {},
   "outputs": [
    {
     "name": "stdout",
     "output_type": "stream",
     "text": [
      "\".\" se repite 10861 veces en el texto.\n",
      "\";\" se repite 327 veces en el texto.\n",
      "\":\" se repite 323 veces en el texto.\n",
      "\"(\" se repite 52 veces en el texto.\n",
      "\")\" se repite 52 veces en el texto.\n",
      "\"?\" se repite 1074 veces en el texto.\n",
      "\"¿\" se repite 1074 veces en el texto.\n",
      "\"-\" se repite 9 veces en el texto.\n",
      "\"!\" se repite 987 veces en el texto.\n",
      "\"...\" se repite 1055 veces en el texto.\n",
      "\"+\" se repite 0 veces en el texto.\n",
      "\"*\" se repite 15 veces en el texto.\n"
     ]
    }
   ],
   "source": [
    "def contar_frecuencia_signos_puntuacion(archivo, listaPuntuacion):\n",
    "    with open(archivo, 'r',encoding=\"utf8\") as f:\n",
    "        texto = f.read()\n",
    "\n",
    "    for nombre in listaPuntuacion:\n",
    "        frecuencia = texto.count(nombre)\n",
    "        print(f'\"{nombre}\" se repite {frecuencia} veces en el texto.')\n",
    "\n",
    "listaPuntuacion=['.',';',':','(',')','?','¿','-','!','...','+','*']\n",
    "contar_frecuencia_signos_puntuacion('J.K. Rowling - Harry Potter 3 - El Prisionero de Azkaban.txt', listaPuntuacion)"
   ]
  },
  {
   "cell_type": "code",
   "execution_count": null,
   "id": "a59d55cb",
   "metadata": {},
   "outputs": [],
   "source": []
  }
 ],
 "metadata": {
  "kernelspec": {
   "display_name": "Python 3 (ipykernel)",
   "language": "python",
   "name": "python3"
  },
  "language_info": {
   "codemirror_mode": {
    "name": "ipython",
    "version": 3
   },
   "file_extension": ".py",
   "mimetype": "text/x-python",
   "name": "python",
   "nbconvert_exporter": "python",
   "pygments_lexer": "ipython3",
   "version": "3.10.9"
  }
 },
 "nbformat": 4,
 "nbformat_minor": 5
}
