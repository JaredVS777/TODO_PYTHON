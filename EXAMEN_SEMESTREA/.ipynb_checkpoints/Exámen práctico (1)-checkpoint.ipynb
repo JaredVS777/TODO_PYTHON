{
 "cells": [
  {
   "cell_type": "code",
   "execution_count": 1,
   "id": "5e0dab00",
   "metadata": {},
   "outputs": [
    {
     "name": "stdout",
     "output_type": "stream",
     "text": [
      "[6, 14, 24, 36, 50]\n",
      "[6, 14, 24, 36, 50]\n",
      "[6, 14, 24, 36, 50]\n"
     ]
    }
   ],
   "source": [
    "\"\"\"\n",
    "A.3\n",
    "Trasformar la siguiente expresión en un programa usando bucles y otro con el uso\n",
    "de función de orden superior map. Recuerde que map necesita como parámetros de\n",
    "entrada una función y las listas a evaluar \n",
    "\"\"\"\n",
    "valores1 = [1,2,3,4,5]\n",
    "valores2 = [6,7,8,9,10]\n",
    "multiplicacion = []\n",
    "resultado = []\n",
    "\n",
    "#lambda\n",
    "print(list(map(lambda x,y : x*y, valores1, valores2 )))\n",
    "\n",
    "#usando bucles\n",
    "for n in range(len(valores1)):\n",
    "    resultado.append(valores1[n]*valores2[n])\n",
    "print(resultado)\n",
    "\n",
    "#Función map\n",
    "def multiplica (valores1, valores2):\n",
    "    return valores1*valores2\n",
    "\n",
    "multiplicacion = list(map(multiplica, valores1, valores2 ))\n",
    "print(multiplicacion)\n",
    "\n"
   ]
  },
  {
   "cell_type": "code",
   "execution_count": 2,
   "id": "56c4828f",
   "metadata": {},
   "outputs": [
    {
     "name": "stdout",
     "output_type": "stream",
     "text": [
      "Ingrese la fecha en el siguiente formato dd/mm/aaaa (En el caso de los meses de un solo dígito, ingresarlos sin 0): 27/03/2023\n",
      "27 de Marzo de 2023\n"
     ]
    }
   ],
   "source": [
    "\"\"\"\n",
    "A.2\n",
    "Cree un diccionario cuya clave representa los meses del año en números y su valor\n",
    "es el mes del año en letras. Ingrese mediante teclado la fecha en el formato\n",
    "“dd/mm/aaaa”. Muestre la fecha “dd de <mes> de aaaa”\n",
    "\"\"\"\n",
    "meses ={\n",
    "    1 : \"Enero\",\n",
    "    2 : \"Febrero\",\n",
    "    3 : \"Marzo\",\n",
    "    4 : \"Abril\",\n",
    "    5 : \"Mayo\",\n",
    "    6 : \"Junio\",\n",
    "    7 : \"Julio\",\n",
    "    8 : \"Agosto\",\n",
    "    9 : \"Septiembre\",\n",
    "    10 : \"Octubre\",\n",
    "    11 : \"Noviembre\",\n",
    "    12 : \"Diciembre\"\n",
    "}\n",
    "\n",
    "fecha = input(\"Ingrese la fecha en el siguiente formato dd/mm/aaaa (En el caso de los meses de un solo dígito, ingresarlos sin 0): \")\n",
    "listafecha = fecha.split('/')\n",
    "print(listafecha[0]+\" de \"+ meses[int(listafecha[1])]+\" de \"+listafecha[2])"
   ]
  },
  {
   "cell_type": "markdown",
   "id": "42650514",
   "metadata": {},
   "source": [
    "# \"\"\"\n",
    "A.1\n",
    "Realizar un programa que permita el ingreso de una cantidad n de números\n",
    "decimales por teclado, almacénelos en una lista. Muestre la suma y el promedio de\n",
    "datos de la lista. Además, del valor máximo y el mínimo. Los resultados deben\n",
    "imprimirse en 2 decimales. Los números ingresados estén entre 1 y 7\n",
    "\"\"\"\n",
    "numeros = []\n",
    "\n",
    "i=0\n",
    "suma=0\n",
    "n = int(input(\"Ingrese la cantidad de números que desea agegar a la lista = \"))\n",
    "print(\"\")\n",
    "\n",
    "if n <= 0 or n >7: \n",
    "    while n <= 0 or n >7:\n",
    "        print(\"La cantidad de valores a ingresar permitidos están entre 1 y 7\")\n",
    "        print(\"\")\n",
    "        n = int(input(\"Ingrese la cantidad de números que desea agegar a la lista = \"))\n",
    "    \n",
    "\n",
    "while(i < n):\n",
    "    x = float(input(\"Ingrese el numero que desea dentro de la lista: \"));\n",
    "    i+=1\n",
    "    numeros.append(x)\n",
    "\n",
    "\n",
    "for x in numeros:\n",
    "    suma += x\n",
    "\n",
    "suma2 = round(suma,2)\n",
    "promedio = suma/n\n",
    "promedio2 = round(promedio,2)\n",
    "\n",
    "\n",
    "menor = round(numeros[0],2)\n",
    "mayor = round(numeros[-1],2)\n",
    "\n",
    "print(\"\")\n",
    "print(\"La suma de los números ingresados es: \", suma2)\n",
    "print(\"El promedio de los números ingresados es: \", promedio2)\n",
    "print(\"El valor mínimo es:\", menor)\n",
    "print(\"El valor máximo es:\", mayor)\n",
    "    "
   ]
  },
  {
   "cell_type": "code",
   "execution_count": null,
   "id": "89d2e88f",
   "metadata": {},
   "outputs": [],
   "source": []
  }
 ],
 "metadata": {
  "kernelspec": {
   "display_name": "Python 3 (ipykernel)",
   "language": "python",
   "name": "python3"
  },
  "language_info": {
   "codemirror_mode": {
    "name": "ipython",
    "version": 3
   },
   "file_extension": ".py",
   "mimetype": "text/x-python",
   "name": "python",
   "nbconvert_exporter": "python",
   "pygments_lexer": "ipython3",
   "version": "3.10.9"
  }
 },
 "nbformat": 4,
 "nbformat_minor": 5
}
