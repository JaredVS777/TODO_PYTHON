{
 "cells": [
  {
   "cell_type": "code",
   "execution_count": 2,
   "id": "6f1e422a",
   "metadata": {},
   "outputs": [
    {
     "name": "stdout",
     "output_type": "stream",
     "text": [
      "Requirement already satisfied: pandas in c:\\users\\user\\anaconda3\\lib\\site-packages (1.5.3)\n",
      "Requirement already satisfied: pytz>=2020.1 in c:\\users\\user\\anaconda3\\lib\\site-packages (from pandas) (2022.7)\n",
      "Requirement already satisfied: numpy>=1.21.0 in c:\\users\\user\\anaconda3\\lib\\site-packages (from pandas) (1.23.5)\n",
      "Requirement already satisfied: python-dateutil>=2.8.1 in c:\\users\\user\\anaconda3\\lib\\site-packages (from pandas) (2.8.2)\n",
      "Requirement already satisfied: six>=1.5 in c:\\users\\user\\anaconda3\\lib\\site-packages (from python-dateutil>=2.8.1->pandas) (1.16.0)\n",
      "Note: you may need to restart the kernel to use updated packages.\n"
     ]
    }
   ],
   "source": [
    "pip install pandas"
   ]
  },
  {
   "cell_type": "code",
   "execution_count": 73,
   "id": "83986e81",
   "metadata": {},
   "outputs": [],
   "source": [
    "import pandas as pd"
   ]
  },
  {
   "cell_type": "code",
   "execution_count": 74,
   "id": "d9685b7f",
   "metadata": {},
   "outputs": [],
   "source": [
    "fruits=['apples','oranges', 'cherries', 'pears']"
   ]
  },
  {
   "cell_type": "code",
   "execution_count": 75,
   "id": "1c8907c9",
   "metadata": {},
   "outputs": [],
   "source": [
    "quantities=[20,32,44,56]"
   ]
  },
  {
   "cell_type": "code",
   "execution_count": 76,
   "id": "d5a8681a",
   "metadata": {},
   "outputs": [],
   "source": [
    "S=pd.Series(fruits,quantities)"
   ]
  },
  {
   "cell_type": "code",
   "execution_count": 77,
   "id": "bf5901a0",
   "metadata": {},
   "outputs": [
    {
     "data": {
      "text/plain": [
       "20      apples\n",
       "32     oranges\n",
       "44    cherries\n",
       "56       pears\n",
       "dtype: object"
      ]
     },
     "execution_count": 77,
     "metadata": {},
     "output_type": "execute_result"
    }
   ],
   "source": [
    "S"
   ]
  },
  {
   "cell_type": "code",
   "execution_count": 78,
   "id": "b9ec34ba",
   "metadata": {},
   "outputs": [],
   "source": [
    "##Dataframe"
   ]
  },
  {
   "cell_type": "code",
   "execution_count": 79,
   "id": "63758f66",
   "metadata": {},
   "outputs": [],
   "source": [
    "frutas_costa=[\"platano\", \"coco\", \"piña\"]"
   ]
  },
  {
   "cell_type": "code",
   "execution_count": 80,
   "id": "57e445f2",
   "metadata": {},
   "outputs": [],
   "source": [
    "frutas_sierra=[\"mandarina\", \"guaba\", \"chirimoya\"]"
   ]
  },
  {
   "cell_type": "code",
   "execution_count": 81,
   "id": "afb604de",
   "metadata": {},
   "outputs": [],
   "source": [
    "index=[\"a\",\"b\",\"c\"]"
   ]
  },
  {
   "cell_type": "code",
   "execution_count": 82,
   "id": "11f3154b",
   "metadata": {},
   "outputs": [],
   "source": [
    "todas_las_frutas={\"costa\":frutas_costa,\"sierra\":frutas_sierra}"
   ]
  },
  {
   "cell_type": "code",
   "execution_count": 83,
   "id": "5a6d4271",
   "metadata": {},
   "outputs": [
    {
     "data": {
      "text/plain": [
       "{'costa': ['platano', 'coco', 'piña'],\n",
       " 'sierra': ['mandarina', 'guaba', 'chirimoya']}"
      ]
     },
     "execution_count": 83,
     "metadata": {},
     "output_type": "execute_result"
    }
   ],
   "source": [
    "todas_las_frutas"
   ]
  },
  {
   "cell_type": "code",
   "execution_count": 84,
   "id": "e603aae0",
   "metadata": {},
   "outputs": [],
   "source": [
    "frutas_indexadas=pd.DataFrame(todas_las_frutas)"
   ]
  },
  {
   "cell_type": "code",
   "execution_count": 85,
   "id": "aa5747a9",
   "metadata": {},
   "outputs": [
    {
     "data": {
      "text/html": [
       "<div>\n",
       "<style scoped>\n",
       "    .dataframe tbody tr th:only-of-type {\n",
       "        vertical-align: middle;\n",
       "    }\n",
       "\n",
       "    .dataframe tbody tr th {\n",
       "        vertical-align: top;\n",
       "    }\n",
       "\n",
       "    .dataframe thead th {\n",
       "        text-align: right;\n",
       "    }\n",
       "</style>\n",
       "<table border=\"1\" class=\"dataframe\">\n",
       "  <thead>\n",
       "    <tr style=\"text-align: right;\">\n",
       "      <th></th>\n",
       "      <th>costa</th>\n",
       "      <th>sierra</th>\n",
       "    </tr>\n",
       "  </thead>\n",
       "  <tbody>\n",
       "    <tr>\n",
       "      <th>0</th>\n",
       "      <td>platano</td>\n",
       "      <td>mandarina</td>\n",
       "    </tr>\n",
       "    <tr>\n",
       "      <th>1</th>\n",
       "      <td>coco</td>\n",
       "      <td>guaba</td>\n",
       "    </tr>\n",
       "    <tr>\n",
       "      <th>2</th>\n",
       "      <td>piña</td>\n",
       "      <td>chirimoya</td>\n",
       "    </tr>\n",
       "  </tbody>\n",
       "</table>\n",
       "</div>"
      ],
      "text/plain": [
       "     costa     sierra\n",
       "0  platano  mandarina\n",
       "1     coco      guaba\n",
       "2     piña  chirimoya"
      ]
     },
     "execution_count": 85,
     "metadata": {},
     "output_type": "execute_result"
    }
   ],
   "source": [
    "frutas_indexadas"
   ]
  },
  {
   "cell_type": "code",
   "execution_count": 86,
   "id": "19f589bc",
   "metadata": {},
   "outputs": [],
   "source": [
    "frutas_etiquetadas=pd.DataFrame(todas_las_frutas,index=index)"
   ]
  },
  {
   "cell_type": "code",
   "execution_count": 87,
   "id": "327a2e1c",
   "metadata": {},
   "outputs": [
    {
     "data": {
      "text/html": [
       "<div>\n",
       "<style scoped>\n",
       "    .dataframe tbody tr th:only-of-type {\n",
       "        vertical-align: middle;\n",
       "    }\n",
       "\n",
       "    .dataframe tbody tr th {\n",
       "        vertical-align: top;\n",
       "    }\n",
       "\n",
       "    .dataframe thead th {\n",
       "        text-align: right;\n",
       "    }\n",
       "</style>\n",
       "<table border=\"1\" class=\"dataframe\">\n",
       "  <thead>\n",
       "    <tr style=\"text-align: right;\">\n",
       "      <th></th>\n",
       "      <th>costa</th>\n",
       "      <th>sierra</th>\n",
       "    </tr>\n",
       "  </thead>\n",
       "  <tbody>\n",
       "    <tr>\n",
       "      <th>a</th>\n",
       "      <td>platano</td>\n",
       "      <td>mandarina</td>\n",
       "    </tr>\n",
       "    <tr>\n",
       "      <th>b</th>\n",
       "      <td>coco</td>\n",
       "      <td>guaba</td>\n",
       "    </tr>\n",
       "    <tr>\n",
       "      <th>c</th>\n",
       "      <td>piña</td>\n",
       "      <td>chirimoya</td>\n",
       "    </tr>\n",
       "  </tbody>\n",
       "</table>\n",
       "</div>"
      ],
      "text/plain": [
       "     costa     sierra\n",
       "a  platano  mandarina\n",
       "b     coco      guaba\n",
       "c     piña  chirimoya"
      ]
     },
     "execution_count": 87,
     "metadata": {},
     "output_type": "execute_result"
    }
   ],
   "source": [
    "frutas_etiquetadas"
   ]
  },
  {
   "cell_type": "code",
   "execution_count": 88,
   "id": "fe553ddb",
   "metadata": {},
   "outputs": [],
   "source": [
    "frutas_indexadas.to_csv('frutas.csv')"
   ]
  },
  {
   "cell_type": "code",
   "execution_count": 89,
   "id": "7d9ded85",
   "metadata": {},
   "outputs": [],
   "source": [
    "frutas_indexadas.to_json('frutas.json')"
   ]
  },
  {
   "cell_type": "code",
   "execution_count": 90,
   "id": "e74a9e9c",
   "metadata": {},
   "outputs": [],
   "source": [
    "df=pd.read_csv('frutas.csv', index_col=0)"
   ]
  },
  {
   "cell_type": "code",
   "execution_count": 91,
   "id": "7b127ac6",
   "metadata": {},
   "outputs": [
    {
     "data": {
      "text/html": [
       "<div>\n",
       "<style scoped>\n",
       "    .dataframe tbody tr th:only-of-type {\n",
       "        vertical-align: middle;\n",
       "    }\n",
       "\n",
       "    .dataframe tbody tr th {\n",
       "        vertical-align: top;\n",
       "    }\n",
       "\n",
       "    .dataframe thead th {\n",
       "        text-align: right;\n",
       "    }\n",
       "</style>\n",
       "<table border=\"1\" class=\"dataframe\">\n",
       "  <thead>\n",
       "    <tr style=\"text-align: right;\">\n",
       "      <th></th>\n",
       "      <th>costa</th>\n",
       "      <th>sierra</th>\n",
       "    </tr>\n",
       "  </thead>\n",
       "  <tbody>\n",
       "    <tr>\n",
       "      <th>0</th>\n",
       "      <td>platano</td>\n",
       "      <td>mandarina</td>\n",
       "    </tr>\n",
       "    <tr>\n",
       "      <th>1</th>\n",
       "      <td>coco</td>\n",
       "      <td>guaba</td>\n",
       "    </tr>\n",
       "    <tr>\n",
       "      <th>2</th>\n",
       "      <td>piña</td>\n",
       "      <td>chirimoya</td>\n",
       "    </tr>\n",
       "  </tbody>\n",
       "</table>\n",
       "</div>"
      ],
      "text/plain": [
       "     costa     sierra\n",
       "0  platano  mandarina\n",
       "1     coco      guaba\n",
       "2     piña  chirimoya"
      ]
     },
     "execution_count": 91,
     "metadata": {},
     "output_type": "execute_result"
    }
   ],
   "source": [
    "df"
   ]
  },
  {
   "cell_type": "code",
   "execution_count": 92,
   "id": "99b8acba",
   "metadata": {},
   "outputs": [],
   "source": [
    "df2=pd.read_json('frutas.json')"
   ]
  },
  {
   "cell_type": "code",
   "execution_count": 93,
   "id": "ae086ed8",
   "metadata": {},
   "outputs": [
    {
     "data": {
      "text/html": [
       "<div>\n",
       "<style scoped>\n",
       "    .dataframe tbody tr th:only-of-type {\n",
       "        vertical-align: middle;\n",
       "    }\n",
       "\n",
       "    .dataframe tbody tr th {\n",
       "        vertical-align: top;\n",
       "    }\n",
       "\n",
       "    .dataframe thead th {\n",
       "        text-align: right;\n",
       "    }\n",
       "</style>\n",
       "<table border=\"1\" class=\"dataframe\">\n",
       "  <thead>\n",
       "    <tr style=\"text-align: right;\">\n",
       "      <th></th>\n",
       "      <th>costa</th>\n",
       "      <th>sierra</th>\n",
       "    </tr>\n",
       "  </thead>\n",
       "  <tbody>\n",
       "    <tr>\n",
       "      <th>0</th>\n",
       "      <td>platano</td>\n",
       "      <td>mandarina</td>\n",
       "    </tr>\n",
       "    <tr>\n",
       "      <th>1</th>\n",
       "      <td>coco</td>\n",
       "      <td>guaba</td>\n",
       "    </tr>\n",
       "    <tr>\n",
       "      <th>2</th>\n",
       "      <td>piña</td>\n",
       "      <td>chirimoya</td>\n",
       "    </tr>\n",
       "  </tbody>\n",
       "</table>\n",
       "</div>"
      ],
      "text/plain": [
       "     costa     sierra\n",
       "0  platano  mandarina\n",
       "1     coco      guaba\n",
       "2     piña  chirimoya"
      ]
     },
     "execution_count": 93,
     "metadata": {},
     "output_type": "execute_result"
    }
   ],
   "source": [
    "df2"
   ]
  },
  {
   "cell_type": "code",
   "execution_count": 95,
   "id": "9afd51c4",
   "metadata": {},
   "outputs": [],
   "source": [
    "df3=pd.read_json('carros.json')"
   ]
  },
  {
   "cell_type": "code",
   "execution_count": 96,
   "id": "8d0ec8a7",
   "metadata": {},
   "outputs": [
    {
     "data": {
      "text/html": [
       "<div>\n",
       "<style scoped>\n",
       "    .dataframe tbody tr th:only-of-type {\n",
       "        vertical-align: middle;\n",
       "    }\n",
       "\n",
       "    .dataframe tbody tr th {\n",
       "        vertical-align: top;\n",
       "    }\n",
       "\n",
       "    .dataframe thead th {\n",
       "        text-align: right;\n",
       "    }\n",
       "</style>\n",
       "<table border=\"1\" class=\"dataframe\">\n",
       "  <thead>\n",
       "    <tr style=\"text-align: right;\">\n",
       "      <th></th>\n",
       "      <th>auto1</th>\n",
       "      <th>auto2</th>\n",
       "    </tr>\n",
       "  </thead>\n",
       "  <tbody>\n",
       "    <tr>\n",
       "      <th>marca</th>\n",
       "      <td>Nissan</td>\n",
       "      <td>Toyota</td>\n",
       "    </tr>\n",
       "    <tr>\n",
       "      <th>modelo</th>\n",
       "      <td>frontier</td>\n",
       "      <td>4runner</td>\n",
       "    </tr>\n",
       "    <tr>\n",
       "      <th>anio</th>\n",
       "      <td>2020</td>\n",
       "      <td>2020</td>\n",
       "    </tr>\n",
       "    <tr>\n",
       "      <th>cilindraje</th>\n",
       "      <td>4000</td>\n",
       "      <td>4000</td>\n",
       "    </tr>\n",
       "    <tr>\n",
       "      <th>tipo_de_frenos</th>\n",
       "      <td>disco</td>\n",
       "      <td>disco</td>\n",
       "    </tr>\n",
       "  </tbody>\n",
       "</table>\n",
       "</div>"
      ],
      "text/plain": [
       "                   auto1    auto2\n",
       "marca             Nissan   Toyota\n",
       "modelo          frontier  4runner\n",
       "anio                2020     2020\n",
       "cilindraje          4000     4000\n",
       "tipo_de_frenos     disco    disco"
      ]
     },
     "execution_count": 96,
     "metadata": {},
     "output_type": "execute_result"
    }
   ],
   "source": [
    "df3"
   ]
  },
  {
   "cell_type": "code",
   "execution_count": 97,
   "id": "2e100e94",
   "metadata": {},
   "outputs": [
    {
     "name": "stdout",
     "output_type": "stream",
     "text": [
      "Collecting pysqlite3Note: you may need to restart the kernel to use updated packages.\n",
      "\n",
      "  Downloading pysqlite3-0.5.0.tar.gz (40 kB)\n",
      "     -------------------------------------- 40.1/40.1 kB 635.5 kB/s eta 0:00:00\n",
      "  Preparing metadata (setup.py): started\n",
      "  Preparing metadata (setup.py): finished with status 'done'\n",
      "Building wheels for collected packages: pysqlite3\n",
      "  Building wheel for pysqlite3 (setup.py): started\n",
      "  Building wheel for pysqlite3 (setup.py): finished with status 'error'\n",
      "  Running setup.py clean for pysqlite3\n",
      "Failed to build pysqlite3\n",
      "Installing collected packages: pysqlite3\n",
      "  Running setup.py install for pysqlite3: started\n",
      "  Running setup.py install for pysqlite3: finished with status 'error'\n"
     ]
    },
    {
     "name": "stderr",
     "output_type": "stream",
     "text": [
      "  error: subprocess-exited-with-error\n",
      "  \n",
      "  python setup.py bdist_wheel did not run successfully.\n",
      "  exit code: 1\n",
      "  \n",
      "  [18 lines of output]\n",
      "  running bdist_wheel\n",
      "  running build\n",
      "  running build_py\n",
      "  creating build\n",
      "  creating build\\lib.win-amd64-cpython-310\n",
      "  creating build\\lib.win-amd64-cpython-310\\pysqlite3\n",
      "  copying pysqlite3\\dbapi2.py -> build\\lib.win-amd64-cpython-310\\pysqlite3\n",
      "  copying pysqlite3\\__init__.py -> build\\lib.win-amd64-cpython-310\\pysqlite3\n",
      "  running build_ext\n",
      "  Builds a C extension linking against libsqlite3 library\n",
      "  building 'pysqlite3._sqlite3' extension\n",
      "  creating build\\temp.win-amd64-cpython-310\n",
      "  creating build\\temp.win-amd64-cpython-310\\Release\n",
      "  creating build\\temp.win-amd64-cpython-310\\Release\\src\n",
      "  \"C:\\Program Files\\Microsoft Visual Studio\\2022\\Professional\\VC\\Tools\\MSVC\\14.35.32215\\bin\\HostX86\\x64\\cl.exe\" /c /nologo /O2 /W3 /GL /DNDEBUG /MD -DMODULE_NAME=\\\"pysqlite3.dbapi2\\\" -I/usr/include -IC:\\Users\\User\\anaconda3\\include -IC:\\Users\\User\\anaconda3\\Include \"-IC:\\Program Files\\Microsoft Visual Studio\\2022\\Professional\\VC\\Tools\\MSVC\\14.35.32215\\include\" \"-IC:\\Program Files\\Microsoft Visual Studio\\2022\\Professional\\VC\\Tools\\MSVC\\14.35.32215\\ATLMFC\\include\" \"-IC:\\Program Files\\Microsoft Visual Studio\\2022\\Professional\\VC\\Auxiliary\\VS\\include\" \"-IC:\\Program Files (x86)\\Windows Kits\\10\\include\\10.0.22000.0\\ucrt\" \"-IC:\\Program Files (x86)\\Windows Kits\\10\\\\include\\10.0.22000.0\\\\um\" \"-IC:\\Program Files (x86)\\Windows Kits\\10\\\\include\\10.0.22000.0\\\\shared\" \"-IC:\\Program Files (x86)\\Windows Kits\\10\\\\include\\10.0.22000.0\\\\winrt\" \"-IC:\\Program Files (x86)\\Windows Kits\\10\\\\include\\10.0.22000.0\\\\cppwinrt\" /Tcsrc\\blob.c /Fobuild\\temp.win-amd64-cpython-310\\Release\\src\\blob.obj\n",
      "  blob.c\n",
      "  C:\\Users\\User\\AppData\\Local\\Temp\\pip-install-o6u18ln7\\pysqlite3_818a42625eb643c58fad4639956cbc99\\src\\blob.h(4): fatal error C1083: No se puede abrir el archivo incluir: 'sqlite3.h': No such file or directory\n",
      "  error: command 'C:\\\\Program Files\\\\Microsoft Visual Studio\\\\2022\\\\Professional\\\\VC\\\\Tools\\\\MSVC\\\\14.35.32215\\\\bin\\\\HostX86\\\\x64\\\\cl.exe' failed with exit code 2\n",
      "  [end of output]\n",
      "  \n",
      "  note: This error originates from a subprocess, and is likely not a problem with pip.\n",
      "  ERROR: Failed building wheel for pysqlite3\n",
      "  error: subprocess-exited-with-error\n",
      "  \n",
      "  Running setup.py install for pysqlite3 did not run successfully.\n",
      "  exit code: 1\n",
      "  \n",
      "  [20 lines of output]\n",
      "  running install\n",
      "  C:\\Users\\User\\anaconda3\\lib\\site-packages\\setuptools\\command\\install.py:34: SetuptoolsDeprecationWarning: setup.py install is deprecated. Use build and pip and other standards-based tools.\n",
      "    warnings.warn(\n",
      "  running build\n",
      "  running build_py\n",
      "  creating build\n",
      "  creating build\\lib.win-amd64-cpython-310\n",
      "  creating build\\lib.win-amd64-cpython-310\\pysqlite3\n",
      "  copying pysqlite3\\dbapi2.py -> build\\lib.win-amd64-cpython-310\\pysqlite3\n",
      "  copying pysqlite3\\__init__.py -> build\\lib.win-amd64-cpython-310\\pysqlite3\n",
      "  running build_ext\n",
      "  Builds a C extension linking against libsqlite3 library\n",
      "  building 'pysqlite3._sqlite3' extension\n",
      "  creating build\\temp.win-amd64-cpython-310\n",
      "  creating build\\temp.win-amd64-cpython-310\\Release\n",
      "  creating build\\temp.win-amd64-cpython-310\\Release\\src\n",
      "  \"C:\\Program Files\\Microsoft Visual Studio\\2022\\Professional\\VC\\Tools\\MSVC\\14.35.32215\\bin\\HostX86\\x64\\cl.exe\" /c /nologo /O2 /W3 /GL /DNDEBUG /MD -DMODULE_NAME=\\\"pysqlite3.dbapi2\\\" -I/usr/include -IC:\\Users\\User\\anaconda3\\include -IC:\\Users\\User\\anaconda3\\Include \"-IC:\\Program Files\\Microsoft Visual Studio\\2022\\Professional\\VC\\Tools\\MSVC\\14.35.32215\\include\" \"-IC:\\Program Files\\Microsoft Visual Studio\\2022\\Professional\\VC\\Tools\\MSVC\\14.35.32215\\ATLMFC\\include\" \"-IC:\\Program Files\\Microsoft Visual Studio\\2022\\Professional\\VC\\Auxiliary\\VS\\include\" \"-IC:\\Program Files (x86)\\Windows Kits\\10\\include\\10.0.22000.0\\ucrt\" \"-IC:\\Program Files (x86)\\Windows Kits\\10\\\\include\\10.0.22000.0\\\\um\" \"-IC:\\Program Files (x86)\\Windows Kits\\10\\\\include\\10.0.22000.0\\\\shared\" \"-IC:\\Program Files (x86)\\Windows Kits\\10\\\\include\\10.0.22000.0\\\\winrt\" \"-IC:\\Program Files (x86)\\Windows Kits\\10\\\\include\\10.0.22000.0\\\\cppwinrt\" /Tcsrc\\blob.c /Fobuild\\temp.win-amd64-cpython-310\\Release\\src\\blob.obj\n",
      "  blob.c\n",
      "  C:\\Users\\User\\AppData\\Local\\Temp\\pip-install-o6u18ln7\\pysqlite3_818a42625eb643c58fad4639956cbc99\\src\\blob.h(4): fatal error C1083: No se puede abrir el archivo incluir: 'sqlite3.h': No such file or directory\n",
      "  error: command 'C:\\\\Program Files\\\\Microsoft Visual Studio\\\\2022\\\\Professional\\\\VC\\\\Tools\\\\MSVC\\\\14.35.32215\\\\bin\\\\HostX86\\\\x64\\\\cl.exe' failed with exit code 2\n",
      "  [end of output]\n",
      "  \n",
      "  note: This error originates from a subprocess, and is likely not a problem with pip.\n",
      "error: legacy-install-failure\n",
      "\n",
      "Encountered error while trying to install package.\n",
      "\n",
      "pysqlite3\n",
      "\n",
      "note: This is an issue with the package mentioned above, not pip.\n",
      "hint: See above for output from the failure.\n"
     ]
    }
   ],
   "source": [
    "pip install pysqlite3"
   ]
  }
 ],
 "metadata": {
  "kernelspec": {
   "display_name": "Python 3 (ipykernel)",
   "language": "python",
   "name": "python3"
  },
  "language_info": {
   "codemirror_mode": {
    "name": "ipython",
    "version": 3
   },
   "file_extension": ".py",
   "mimetype": "text/x-python",
   "name": "python",
   "nbconvert_exporter": "python",
   "pygments_lexer": "ipython3",
   "version": "3.10.9"
  }
 },
 "nbformat": 4,
 "nbformat_minor": 5
}
