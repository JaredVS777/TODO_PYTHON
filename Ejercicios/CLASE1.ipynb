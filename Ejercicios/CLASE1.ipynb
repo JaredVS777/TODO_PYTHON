{
 "cells": [
  {
   "cell_type": "code",
   "execution_count": 1,
   "id": "4230e36c",
   "metadata": {},
   "outputs": [],
   "source": [
    "a=10\n",
    "b=6\n"
   ]
  },
  {
   "cell_type": "code",
   "execution_count": 2,
   "id": "421aa70f",
   "metadata": {},
   "outputs": [
    {
     "name": "stdout",
     "output_type": "stream",
     "text": [
      "16\n"
     ]
    }
   ],
   "source": [
    "print (a+b)\n"
   ]
  },
  {
   "cell_type": "code",
   "execution_count": 3,
   "id": "ad26fe67",
   "metadata": {},
   "outputs": [
    {
     "name": "stdout",
     "output_type": "stream",
     "text": [
      "Introduce una cadena de texto: hola mundo\n",
      "La cadena que ingreso es:\n",
      " hola mundo\n"
     ]
    }
   ],
   "source": [
    "cadena= input(\"Introduce una cadena de texto: \")\n",
    "print (\"La cadena que ingreso es:\\n\",cadena)"
   ]
  },
  {
   "cell_type": "code",
   "execution_count": 6,
   "id": "6d668b26",
   "metadata": {},
   "outputs": [
    {
     "name": "stdout",
     "output_type": "stream",
     "text": [
      "Introduce el peso: 78\n",
      "Introduce la estatura : 1.76\n",
      "Tu indice de masa corporal es:  25.18\n"
     ]
    }
   ],
   "source": [
    "peso=float(input(\"Introduce el peso: \"))\n",
    "estatura=float(input(\"Introduce la estatura : \"))\n",
    "masa=peso/(estatura*estatura)\n",
    "print(\"Tu indice de masa corporal es: \",round(masa,2))"
   ]
  },
  {
   "cell_type": "code",
   "execution_count": 12,
   "id": "aca9adb0",
   "metadata": {},
   "outputs": [
    {
     "data": {
      "text/plain": [
       "4"
      ]
     },
     "execution_count": 12,
     "metadata": {},
     "output_type": "execute_result"
    }
   ],
   "source": [
    "s=\"Hola Hola Hola Hola mundo\"\n",
    "s.(\"Hola\")"
   ]
  },
  {
   "cell_type": "code",
   "execution_count": 13,
   "id": "29733c5f",
   "metadata": {},
   "outputs": [
    {
     "data": {
      "text/plain": [
       "'An'"
      ]
     },
     "execution_count": 13,
     "metadata": {},
     "output_type": "execute_result"
    }
   ],
   "source": [
    "palabra='Antonio'\n",
    "palabra[:2]"
   ]
  },
  {
   "cell_type": "code",
   "execution_count": 14,
   "id": "682ebe49",
   "metadata": {},
   "outputs": [
    {
     "name": "stdout",
     "output_type": "stream",
     "text": [
      "oinotnA\n"
     ]
    }
   ],
   "source": [
    "print(palabra[::-1])"
   ]
  },
  {
   "cell_type": "code",
   "execution_count": 19,
   "id": "3901f581",
   "metadata": {},
   "outputs": [
    {
     "name": "stdout",
     "output_type": "stream",
     "text": [
      "[1, 8, 27, 64, 125]\n",
      "[2, 1, 8, 27, 64, 125]\n"
     ]
    }
   ],
   "source": [
    "cubos=[1,8,27,65,125]\n",
    "cubos[3]=64\n",
    "print(cubos)\n",
    "cubos.insert(0,2)\n",
    "print(cubos)"
   ]
  },
  {
   "cell_type": "code",
   "execution_count": 21,
   "id": "22491397",
   "metadata": {},
   "outputs": [
    {
     "name": "stdout",
     "output_type": "stream",
     "text": [
      "[9, 10, 11, 12]\n"
     ]
    }
   ],
   "source": [
    "lista1=[1,2,3,4]\n",
    "lista2=[5,6,7,8]\n",
    "lista3=[9,10,11,12]\n",
    "suma=lista1[0]+lista2[0]\n",
    "suma=lista3[0]\n",
    "print (lista3)"
   ]
  },
  {
   "cell_type": "code",
   "execution_count": 33,
   "id": "f4170f92",
   "metadata": {},
   "outputs": [],
   "source": [
    "lista1=[1,2,3]\n",
    "lista2=[4,5,6]\n",
    "lista3=[7,8,9]"
   ]
  },
  {
   "cell_type": "code",
   "execution_count": 35,
   "id": "b3093a59",
   "metadata": {},
   "outputs": [],
   "source": [
    "x=[lista1,lista2,lista3]"
   ]
  },
  {
   "cell_type": "code",
   "execution_count": 37,
   "id": "6fc94f42",
   "metadata": {},
   "outputs": [],
   "source": [
    "x=[0][0]"
   ]
  },
  {
   "cell_type": "code",
   "execution_count": null,
   "id": "4e7cc977",
   "metadata": {},
   "outputs": [],
   "source": [
    "filas=int(inpunt(\"Introduce numero de filas: \"))\n",
    "filas=int(inpunt(\"Introduce numero de columnas: \"))\n",
    "matriz = []\n",
    "for i in range (filas):\n",
    "    matriz.append ([])\n",
    "    for j in range (columnas):\n",
    "        valor = float(inpunt(\"Fila {}, columna {}:\".format(i+1, j+1)))\n",
    "        matriz[i].apennd(valor)"
   ]
  },
  {
   "cell_type": "code",
   "execution_count": 42,
   "id": "cf7fc9e3",
   "metadata": {},
   "outputs": [
    {
     "ename": "NameError",
     "evalue": "name 'inpunt' is not defined",
     "output_type": "error",
     "traceback": [
      "\u001b[1;31m---------------------------------------------------------------------------\u001b[0m",
      "\u001b[1;31mNameError\u001b[0m                                 Traceback (most recent call last)",
      "Cell \u001b[1;32mIn[42], line 4\u001b[0m\n\u001b[0;32m      2\u001b[0m filas\u001b[38;5;241m=\u001b[39m\u001b[38;5;241m3\u001b[39m\n\u001b[0;32m      3\u001b[0m columnas\u001b[38;5;241m=\u001b[39m\u001b[38;5;241m3\u001b[39m\n\u001b[1;32m----> 4\u001b[0m valores\u001b[38;5;241m=\u001b[39m\u001b[38;5;28mlist\u001b[39m(\u001b[38;5;28mmap\u001b[39m(\u001b[43minpunt\u001b[49m(\u001b[38;5;124m\"\u001b[39m\u001b[38;5;124mIntroduce datos: \u001b[39m\u001b[38;5;124m\"\u001b[39m)\u001b[38;5;241m.\u001b[39msplit))\n\u001b[0;32m      5\u001b[0m matriz\u001b[38;5;241m=\u001b[39mnp\u001b[38;5;241m.\u001b[39marray(valores)\u001b[38;5;241m.\u001b[39mreshape(filas, columnas)\n\u001b[0;32m      6\u001b[0m \u001b[38;5;28mprint\u001b[39m (matriz)\n",
      "\u001b[1;31mNameError\u001b[0m: name 'inpunt' is not defined"
     ]
    }
   ],
   "source": []
  },
  {
   "cell_type": "code",
   "execution_count": 1,
   "id": "3c1938be",
   "metadata": {},
   "outputs": [
    {
     "ename": "IndentationError",
     "evalue": "unexpected indent (2336177610.py, line 2)",
     "output_type": "error",
     "traceback": [
      "\u001b[1;36m  Cell \u001b[1;32mIn[1], line 2\u001b[1;36m\u001b[0m\n\u001b[1;33m    n1 = int(input(\"Ingrese el número de columnas de la primera matriz: \"))\u001b[0m\n\u001b[1;37m    ^\u001b[0m\n\u001b[1;31mIndentationError\u001b[0m\u001b[1;31m:\u001b[0m unexpected indent\n"
     ]
    }
   ],
   "source": [
    " m1 = int(input(\"Ingrese el número de filas de la primera matriz: \"))\n",
    "    n1 = int(input(\"Ingrese el número de columnas de la primera matriz: \"))\n",
    "\n",
    "    # Pedir al usuario el número de filas y columnas de la segunda matriz\n",
    "    m2 = int(input(\"Ingrese el número de filas de la segunda matriz: \"))\n",
    "    n2 = int(input(\"Ingrese el número de columnas de la segunda matriz: \"))\n",
    "\n",
    "    # Verificar si las dimensiones son adecuadas para la multiplicación\n",
    "    if n1 != m2:\n",
    "        print(\"No se puede realizar la multiplicación de matrices.\")\n",
    "        return\n",
    "\n",
    "    # Crear la primera matriz con los datos ingresados por el usuario\n",
    "    matriz1 = []\n",
    "    print(\"Ingrese los elementos de la primera matriz: \")\n",
    "    for i in range(m1):\n",
    "        fila = []\n",
    "        for j in range(n1):\n",
    "            fila.append(int(input()))\n",
    "        matriz1.append(fila)\n",
    "\n",
    "    # Crear la segunda matriz con los datos ingresados por el usuario\n",
    "    matriz2 = []\n",
    "    print(\"Ingrese los elementos de la segunda matriz: \")\n",
    "    for i in range(m2):\n",
    "        fila = []\n",
    "        for j in range(n2):\n",
    "            fila.append(int(input()))\n",
    "        matriz2.append(fila)\n",
    "\n",
    "    # Crear la matriz resultado con las dimensiones correspondientes\n",
    "    matriz_resultado = [[0 for j in range(m1)] for i in range(m1)]\n",
    "\n",
    "    # Realizar la multiplicación de matrices\n",
    "    for i in range(m1):\n",
    "        for j in range(m1):\n",
    "            for k in range(n1):\n",
    "                matriz_resultado[i][j] += matriz1[i][k] * matriz2[k][j]\n",
    "\n",
    "    # Imprimir la matriz resultado\n",
    "    print(\"La matriz resultado es: \")\n",
    "    for fila in matriz_resultado:\n",
    "        print(fila)\n"
   ]
  },
  {
   "cell_type": "code",
   "execution_count": 2,
   "id": "625f5f94",
   "metadata": {},
   "outputs": [
    {
     "name": "stdout",
     "output_type": "stream",
     "text": [
      "Ingrese el número de filas de la primera matriz: 2\n",
      "Ingrese el número de columnas de la primera matriz: 3\n",
      "Ingrese el número de filas de la segunda matriz: 3\n",
      "Ingrese el número de columnas de la segunda matriz: 2\n",
      "Ingrese los elementos de la primera matriz: \n",
      "3\n",
      "4\n",
      "5\n",
      "6\n",
      "7\n",
      "8\n",
      "Ingrese los elementos de la segunda matriz: \n",
      "6\n",
      "7\n",
      "5\n",
      "4\n",
      "3\n",
      "5\n",
      "La matriz resultado es: \n",
      "[53, 62]\n",
      "[95, 110]\n"
     ]
    }
   ],
   "source": [
    "def multiplicar_matrices():\n",
    "    # Pedir al usuario el número de filas y columnas de la primera matriz\n",
    "    m1 = int(input(\"Ingrese el número de filas de la primera matriz: \"))\n",
    "    n1 = int(input(\"Ingrese el número de columnas de la primera matriz: \"))\n",
    "\n",
    "    # Pedir al usuario el número de filas y columnas de la segunda matriz\n",
    "    m2 = int(input(\"Ingrese el número de filas de la segunda matriz: \"))\n",
    "    n2 = int(input(\"Ingrese el número de columnas de la segunda matriz: \"))\n",
    "\n",
    "    # Verificar si las dimensiones son adecuadas para la multiplicación\n",
    "    if n1 != m2:\n",
    "        print(\"No se puede realizar la multiplicación de matrices.\")\n",
    "        return\n",
    "\n",
    "    # Crear la primera matriz con los datos ingresados por el usuario\n",
    "    matriz1 = []\n",
    "    print(\"Ingrese los elementos de la primera matriz: \")\n",
    "    for i in range(m1):\n",
    "        fila = []\n",
    "        for j in range(n1):\n",
    "            fila.append(int(input()))\n",
    "        matriz1.append(fila)\n",
    "\n",
    "    # Crear la segunda matriz con los datos ingresados por el usuario\n",
    "    matriz2 = []\n",
    "    print(\"Ingrese los elementos de la segunda matriz: \")\n",
    "    for i in range(m2):\n",
    "        fila = []\n",
    "        for j in range(n2):\n",
    "            fila.append(int(input()))\n",
    "        matriz2.append(fila)\n",
    "\n",
    "    # Crear la matriz resultado con las dimensiones correspondientes\n",
    "    matriz_resultado = [[0 for j in range(m1)] for i in range(m1)]\n",
    "\n",
    "    # Realizar la multiplicación de matrices\n",
    "    for i in range(m1):\n",
    "        for j in range(m1):\n",
    "            for k in range(n1):\n",
    "                matriz_resultado[i][j] += matriz1[i][k] * matriz2[k][j]\n",
    "\n",
    "    # Imprimir la matriz resultado\n",
    "    print(\"La matriz resultado es: \")\n",
    "    for fila in matriz_resultado:\n",
    "        print(fila)\n",
    "\n",
    "\n",
    "# Llamar a la función para multiplicar las matrices\n",
    "multiplicar_matrices()"
   ]
  },
  {
   "cell_type": "code",
   "execution_count": 7,
   "id": "fe97125c",
   "metadata": {},
   "outputs": [
    {
     "name": "stdout",
     "output_type": "stream",
     "text": [
      "Ingrese el número de filas de la primera matriz: 3\n",
      "Ingrese el número de columnas de la primera matriz: 1\n",
      "Ingrese el número de filas de la segunda matriz: 6\n",
      "Ingrese el número de columnas de la segunda matriz: 7\n",
      "No se puede realizar la multiplicación de matrices.\n",
      "Ingrese los elementos de la primera matriz: \n",
      "6\n",
      "7\n",
      "8\n",
      "Ingrese los elementos de la segunda matriz: \n",
      "9\n",
      "7\n",
      "6\n",
      "5\n",
      "4\n",
      "5\n",
      "6\n",
      "7\n",
      "8\n",
      "7\n",
      "6\n",
      "6\n",
      "5\n",
      "4\n",
      "3\n",
      "2\n",
      "2\n",
      "3\n",
      "4\n",
      "5\n",
      "6\n",
      "7\n",
      "8\n",
      "9\n",
      "7\n",
      "7\n",
      "6\n",
      "6\n",
      "5\n",
      "4\n",
      "32\n",
      "2\n",
      "3\n",
      "4\n",
      "5\n",
      "6\n",
      "7\n",
      "78\n",
      "8\n",
      "8\n",
      "888\n",
      "\n"
     ]
    },
    {
     "ename": "ValueError",
     "evalue": "invalid literal for int() with base 10: ''",
     "output_type": "error",
     "traceback": [
      "\u001b[1;31m---------------------------------------------------------------------------\u001b[0m",
      "\u001b[1;31mValueError\u001b[0m                                Traceback (most recent call last)",
      "Cell \u001b[1;32mIn[7], line 29\u001b[0m\n\u001b[0;32m     27\u001b[0m     fila \u001b[38;5;241m=\u001b[39m []\n\u001b[0;32m     28\u001b[0m     \u001b[38;5;28;01mfor\u001b[39;00m j \u001b[38;5;129;01min\u001b[39;00m \u001b[38;5;28mrange\u001b[39m(n2):\n\u001b[1;32m---> 29\u001b[0m         fila\u001b[38;5;241m.\u001b[39mappend(\u001b[38;5;28;43mint\u001b[39;49m\u001b[43m(\u001b[49m\u001b[38;5;28;43minput\u001b[39;49m\u001b[43m(\u001b[49m\u001b[43m)\u001b[49m\u001b[43m)\u001b[49m)\n\u001b[0;32m     30\u001b[0m     matriz2\u001b[38;5;241m.\u001b[39mappend(fila)\n\u001b[0;32m     32\u001b[0m \u001b[38;5;66;03m# Crear la matriz resultado con las dimensiones correspondientes\u001b[39;00m\n",
      "\u001b[1;31mValueError\u001b[0m: invalid literal for int() with base 10: ''"
     ]
    }
   ],
   "source": []
  },
  {
   "cell_type": "code",
   "execution_count": 6,
   "id": "dd0ff00c",
   "metadata": {},
   "outputs": [
    {
     "name": "stdout",
     "output_type": "stream",
     "text": [
      "Ingrese el número de filas de la primera matriz: 2\n",
      "Ingrese el número de columnas de la primera matriz: 3\n",
      "Ingrese el número de filas de la segunda matriz: 1\n",
      "Ingrese el número de columnas de la segunda matriz: 1\n",
      "No se puede realizar la multiplicación de matrices.\n",
      "Ingrese el número de filas de la segunda matriz: 3\n",
      "Ingrese el número de columnas de la segunda matriz: 4\n",
      "Ingrese los elementos de la primera matriz: \n",
      "3\n",
      "4\n",
      "5\n",
      "6\n",
      "7\n",
      "8\n",
      "La primera matriz es: \n",
      "[3, 4, 5]\n",
      "[6, 7, 8]\n",
      "La segunda matriz es: \n",
      "[19, 11, 20, 19]\n",
      "[9, 2, 17, 6]\n",
      "[1, 1, 5, 13]\n",
      "La matriz resultado es: \n",
      "[98, 46]\n",
      "[185, 88]\n"
     ]
    }
   ],
   "source": [
    "import random\n",
    "\n",
    "m1 = int(input(\"Ingrese el número de filas de la primera matriz: \"))\n",
    "n1 = int(input(\"Ingrese el número de columnas de la primera matriz: \"))\n",
    "# Se pide al usuario el número de filas y columnas de la primera matriz\n",
    "\n",
    "m2 = int(input(\"Ingrese el número de filas de la segunda matriz: \"))\n",
    "n2 = int(input(\"Ingrese el número de columnas de la segunda matriz: \"))\n",
    "# Se pide al usuario el número de filas y columnas de la segunda matriz\n",
    "\n",
    "\n",
    "while n1 != m2:\n",
    "    print(\"No se puede realizar la multiplicación de matrices.\")\n",
    "    m2 = int(input(\"Ingrese el número de filas de la segunda matriz: \"))\n",
    "    n2 = int(input(\"Ingrese el número de columnas de la segunda matriz: \"))\n",
    "# Verificacion de dimensiones para la multiplicación\n",
    "\n",
    "\n",
    "matriz1 = []\n",
    "print(\"Ingrese los elementos de la primera matriz: \")\n",
    "for i in range(m1):\n",
    "    fila = []\n",
    "    for j in range(n1):\n",
    "        fila.append(int(input()))\n",
    "    matriz1.append(fila)\n",
    "# Pedir los elementos de la primera matriz\n",
    " \n",
    "#MATRIZ 1\n",
    "print(\"La primera matriz es: \")\n",
    "for fila in matriz1:\n",
    "    print(fila)\n",
    "\n",
    "matriz2 = []\n",
    "for i in range(m2):\n",
    "    fila = []\n",
    "    for j in range(n2):\n",
    "        fila.append(random.randint(1, 20))  # Genera números aleatorios entre 1 y 20\n",
    "    matriz2.append(fila)\n",
    "# Segunda matriz con números aleatorios\n",
    "\n",
    "# Matriz 2\n",
    "print(\"La segunda matriz es: \")\n",
    "for fila in matriz2:\n",
    "    print(fila)\n",
    "\n",
    "\n",
    "\n",
    "matriz_resultado = [[0 for j in range(m1)] for i in range(m1)]\n",
    "# dimensiones adecuadas para la matriz resultado\n",
    "\n",
    "# Multiplicación de matrices\n",
    "for i in range(m1):\n",
    "    for j in range(m1):\n",
    "        for k in range(n1):\n",
    "            matriz_resultado[i][j] += matriz1[i][k] * matriz2[k][j]\n",
    "\n",
    "# MATRIZ RESULTADO\n",
    "print(\"La matriz resultado es: \")\n",
    "for fila in matriz_resultado:\n",
    "    print(fila)"
   ]
  },
  {
   "cell_type": "code",
   "execution_count": 1,
   "id": "70b6e218",
   "metadata": {},
   "outputs": [
    {
     "name": "stdout",
     "output_type": "stream",
     "text": [
      "{'manzana', 'naranja', 'banana', 'pera'}\n"
     ]
    }
   ],
   "source": [
    "canasta={'manzana','naranja','manzana','pera','naranja','banana'}\n",
    "print(canasta)"
   ]
  }
 ],
 "metadata": {
  "kernelspec": {
   "display_name": "Python 3 (ipykernel)",
   "language": "python",
   "name": "python3"
  },
  "language_info": {
   "codemirror_mode": {
    "name": "ipython",
    "version": 3
   },
   "file_extension": ".py",
   "mimetype": "text/x-python",
   "name": "python",
   "nbconvert_exporter": "python",
   "pygments_lexer": "ipython3",
   "version": "3.10.9"
  }
 },
 "nbformat": 4,
 "nbformat_minor": 5
}
