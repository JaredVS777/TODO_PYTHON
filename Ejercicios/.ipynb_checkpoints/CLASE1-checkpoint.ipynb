{
 "cells": [
  {
   "cell_type": "code",
   "execution_count": 1,
   "id": "7d65238b",
   "metadata": {},
   "outputs": [],
   "source": [
    "a=10\n",
    "b=6\n"
   ]
  },
  {
   "cell_type": "code",
   "execution_count": 2,
   "id": "ca76b9c9",
   "metadata": {},
   "outputs": [
    {
     "name": "stdout",
     "output_type": "stream",
     "text": [
      "16\n"
     ]
    }
   ],
   "source": [
    "print (a+b)\n"
   ]
  },
  {
   "cell_type": "code",
   "execution_count": 3,
   "id": "49bffb10",
   "metadata": {},
   "outputs": [
    {
     "name": "stdout",
     "output_type": "stream",
     "text": [
      "Introduce una cadena de texto: hola mundo\n",
      "La cadena que ingreso es:\n",
      " hola mundo\n"
     ]
    }
   ],
   "source": [
    "cadena= input(\"Introduce una cadena de texto: \")\n",
    "print (\"La cadena que ingreso es:\\n\",cadena)"
   ]
  },
  {
   "cell_type": "code",
   "execution_count": 6,
   "id": "0c516c4d",
   "metadata": {},
   "outputs": [
    {
     "name": "stdout",
     "output_type": "stream",
     "text": [
      "Introduce el peso: 78\n",
      "Introduce la estatura : 1.76\n",
      "Tu indice de masa corporal es:  25.18\n"
     ]
    }
   ],
   "source": [
    "peso=float(input(\"Introduce el peso: \"))\n",
    "estatura=float(input(\"Introduce la estatura : \"))\n",
    "masa=peso/(estatura*estatura)\n",
    "print(\"Tu indice de masa corporal es: \",round(masa,2))"
   ]
  },
  {
   "cell_type": "code",
   "execution_count": 12,
   "id": "85de9424",
   "metadata": {},
   "outputs": [
    {
     "data": {
      "text/plain": [
       "4"
      ]
     },
     "execution_count": 12,
     "metadata": {},
     "output_type": "execute_result"
    }
   ],
   "source": [
    "s=\"Hola Hola Hola Hola mundo\"\n",
    "s.(\"Hola\")"
   ]
  },
  {
   "cell_type": "code",
   "execution_count": 13,
   "id": "658fab92",
   "metadata": {},
   "outputs": [
    {
     "data": {
      "text/plain": [
       "'An'"
      ]
     },
     "execution_count": 13,
     "metadata": {},
     "output_type": "execute_result"
    }
   ],
   "source": [
    "palabra='Antonio'\n",
    "palabra[:2]"
   ]
  },
  {
   "cell_type": "code",
   "execution_count": 14,
   "id": "638a62da",
   "metadata": {},
   "outputs": [
    {
     "name": "stdout",
     "output_type": "stream",
     "text": [
      "oinotnA\n"
     ]
    }
   ],
   "source": [
    "print(palabra[::-1])"
   ]
  },
  {
   "cell_type": "code",
   "execution_count": 19,
   "id": "88e79e10",
   "metadata": {},
   "outputs": [
    {
     "name": "stdout",
     "output_type": "stream",
     "text": [
      "[1, 8, 27, 64, 125]\n",
      "[2, 1, 8, 27, 64, 125]\n"
     ]
    }
   ],
   "source": [
    "cubos=[1,8,27,65,125]\n",
    "cubos[3]=64\n",
    "print(cubos)\n",
    "cubos.insert(0,2)\n",
    "print(cubos)"
   ]
  },
  {
   "cell_type": "code",
   "execution_count": 21,
   "id": "31bf72ce",
   "metadata": {},
   "outputs": [
    {
     "name": "stdout",
     "output_type": "stream",
     "text": [
      "[9, 10, 11, 12]\n"
     ]
    }
   ],
   "source": [
    "lista1=[1,2,3,4]\n",
    "lista2=[5,6,7,8]\n",
    "lista3=[9,10,11,12]\n",
    "suma=lista1[0]+lista2[0]\n",
    "suma=lista3[0]\n",
    "print (lista3)"
   ]
  },
  {
   "cell_type": "code",
   "execution_count": 33,
   "id": "64cc1856",
   "metadata": {},
   "outputs": [],
   "source": [
    "lista1=[1,2,3]\n",
    "lista2=[4,5,6]\n",
    "lista3=[7,8,9]"
   ]
  },
  {
   "cell_type": "code",
   "execution_count": 35,
   "id": "9ed5a32c",
   "metadata": {},
   "outputs": [],
   "source": [
    "x=[lista1,lista2,lista3]"
   ]
  },
  {
   "cell_type": "code",
   "execution_count": 37,
   "id": "8af58208",
   "metadata": {},
   "outputs": [],
   "source": [
    "x=[0][0]"
   ]
  },
  {
   "cell_type": "code",
   "execution_count": null,
   "id": "2cd0d7f5",
   "metadata": {},
   "outputs": [],
   "source": []
  }
 ],
 "metadata": {
  "kernelspec": {
   "display_name": "Python 3 (ipykernel)",
   "language": "python",
   "name": "python3"
  },
  "language_info": {
   "codemirror_mode": {
    "name": "ipython",
    "version": 3
   },
   "file_extension": ".py",
   "mimetype": "text/x-python",
   "name": "python",
   "nbconvert_exporter": "python",
   "pygments_lexer": "ipython3",
   "version": "3.10.9"
  }
 },
 "nbformat": 4,
 "nbformat_minor": 5
}
