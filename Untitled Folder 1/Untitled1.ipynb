{
 "cells": [
  {
   "cell_type": "markdown",
   "id": "e382fa7b",
   "metadata": {},
   "source": [
    "1. Create a checkerboard 8x8 matrix using the tile function (#21)"
   ]
  },
  {
   "cell_type": "code",
   "execution_count": 3,
   "id": "4adf6a72",
   "metadata": {},
   "outputs": [],
   "source": [
    "import numpy as np\n"
   ]
  },
  {
   "cell_type": "code",
   "execution_count": 5,
   "id": "b913e3e3",
   "metadata": {},
   "outputs": [
    {
     "name": "stdout",
     "output_type": "stream",
     "text": [
      "[[0 1 0 1 0 1 0 1]\n",
      " [1 0 1 0 1 0 1 0]\n",
      " [0 1 0 1 0 1 0 1]\n",
      " [1 0 1 0 1 0 1 0]\n",
      " [0 1 0 1 0 1 0 1]\n",
      " [1 0 1 0 1 0 1 0]\n",
      " [0 1 0 1 0 1 0 1]\n",
      " [1 0 1 0 1 0 1 0]]\n"
     ]
    }
   ],
   "source": [
    "X = np.tile( np.array([[0,1],[1,0]]), (4,4))\n",
    "#función tile se utiliza para repetir o extender una matriz o arreglo\n",
    "print(X)"
   ]
  },
  {
   "cell_type": "markdown",
   "id": "1f2b758e",
   "metadata": {},
   "source": [
    "2. Multiply a 5x3 matrix by a 3x2 matrix (real matrix product) (#24)"
   ]
  },
  {
   "cell_type": "code",
   "execution_count": 7,
   "id": "f0e65e02",
   "metadata": {},
   "outputs": [
    {
     "name": "stdout",
     "output_type": "stream",
     "text": [
      "[[3. 3.]\n",
      " [3. 3.]\n",
      " [3. 3.]\n",
      " [3. 3.]\n",
      " [3. 3.]]\n",
      "[[3. 3.]\n",
      " [3. 3.]\n",
      " [3. 3.]\n",
      " [3. 3.]\n",
      " [3. 3.]]\n"
     ]
    }
   ],
   "source": [
    "X = np.dot(np.ones((5,3)), np.ones((3,2)))\n",
    "#a función dot se utiliza para realizar la multiplicación de matrices o el producto escalar entre vectores\n",
    "print(Z)\n",
    "X = np.ones((5,3)) @ np.ones((3,2))\n",
    "#operador de multiplicación de matrices\n",
    "print(X)"
   ]
  },
  {
   "cell_type": "markdown",
   "id": "f0b32dad",
   "metadata": {},
   "source": [
    "3. What are the result of the following expressions? (#28)"
   ]
  },
  {
   "cell_type": "code",
   "execution_count": 8,
   "id": "c47f4d4c",
   "metadata": {},
   "outputs": [
    {
     "name": "stdout",
     "output_type": "stream",
     "text": [
      "nan\n",
      "0\n",
      "[-2.14748365e+09]\n"
     ]
    },
    {
     "name": "stderr",
     "output_type": "stream",
     "text": [
      "C:\\Users\\User\\AppData\\Local\\Temp\\ipykernel_3224\\1466881431.py:1: RuntimeWarning: invalid value encountered in divide\n",
      "  np.array(0) / np.array(0)\n",
      "C:\\Users\\User\\AppData\\Local\\Temp\\ipykernel_3224\\1466881431.py:2: RuntimeWarning: divide by zero encountered in floor_divide\n",
      "  np.array(0) // np.array(0)\n",
      "C:\\Users\\User\\AppData\\Local\\Temp\\ipykernel_3224\\1466881431.py:4: RuntimeWarning: invalid value encountered in divide\n",
      "  print(np.array(0) / np.array(0))\n",
      "C:\\Users\\User\\AppData\\Local\\Temp\\ipykernel_3224\\1466881431.py:5: RuntimeWarning: divide by zero encountered in floor_divide\n",
      "  print(np.array(0) // np.array(0))\n"
     ]
    }
   ],
   "source": [
    "np.array(0) / np.array(0)\n",
    "np.array(0) // np.array(0)\n",
    "np.array([np.nan]).astype(int).astype(float)\n",
    "print(np.array(0) / np.array(0))\n",
    "print(np.array(0) // np.array(0))\n",
    "print(np.array([np.nan]).astype(int).astype(float))"
   ]
  }
 ],
 "metadata": {
  "kernelspec": {
   "display_name": "Python 3 (ipykernel)",
   "language": "python",
   "name": "python3"
  },
  "language_info": {
   "codemirror_mode": {
    "name": "ipython",
    "version": 3
   },
   "file_extension": ".py",
   "mimetype": "text/x-python",
   "name": "python",
   "nbconvert_exporter": "python",
   "pygments_lexer": "ipython3",
   "version": "3.10.9"
  }
 },
 "nbformat": 4,
 "nbformat_minor": 5
}
