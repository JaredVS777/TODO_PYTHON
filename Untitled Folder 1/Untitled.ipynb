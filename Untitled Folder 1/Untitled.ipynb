{
 "cells": [
  {
   "cell_type": "code",
   "execution_count": 1,
   "id": "6d8191bb",
   "metadata": {},
   "outputs": [
    {
     "name": "stdout",
     "output_type": "stream",
     "text": [
      "[1 2 3]\n",
      "[[1 2 3]\n",
      " [4 5 6]]\n"
     ]
    }
   ],
   "source": [
    "import numpy as np\n",
    "a=np.array([1,2,3])\n",
    "print(a)\n",
    "b=np.array([(1,2,3),(4,5,6)])\n",
    "print(b)"
   ]
  },
  {
   "cell_type": "code",
   "execution_count": 2,
   "id": "a15794b3",
   "metadata": {},
   "outputs": [
    {
     "name": "stdout",
     "output_type": "stream",
     "text": [
      "28000\n"
     ]
    }
   ],
   "source": [
    "import sys\n",
    "S=range(1000)\n",
    "print(sys.getsizeof(5)*len(S))"
   ]
  },
  {
   "cell_type": "code",
   "execution_count": 4,
   "id": "87b0853d",
   "metadata": {},
   "outputs": [
    {
     "name": "stdout",
     "output_type": "stream",
     "text": [
      "4000\n"
     ]
    }
   ],
   "source": [
    "#utiliza menos espacio de memoria\n",
    "D=np.arange(1000)\n",
    "print(D.size*D.itemsize)"
   ]
  },
  {
   "cell_type": "code",
   "execution_count": 9,
   "id": "91487094",
   "metadata": {},
   "outputs": [
    {
     "name": "stdout",
     "output_type": "stream",
     "text": [
      "125.46110153198242\n",
      "31.859397888183594\n"
     ]
    }
   ],
   "source": [
    "import time\n",
    "SIZE=1000000\n",
    "L1= range(SIZE)\n",
    "L2= range(SIZE)\n",
    "A1= np.arange(SIZE)\n",
    "A2= np.arange(SIZE)\n",
    "start=time.time()\n",
    "result=[(x,y)for x,y in zip(L1,L2)]\n",
    "print((time.time()-start)*1000)\n",
    "\n",
    "start=time.time()\n",
    "result=A1+A2\n",
    "print((time.time()-start)*1000)"
   ]
  },
  {
   "cell_type": "code",
   "execution_count": 12,
   "id": "8f5fad2b",
   "metadata": {},
   "outputs": [
    {
     "data": {
      "text/plain": [
       "0.0"
      ]
     },
     "execution_count": 12,
     "metadata": {},
     "output_type": "execute_result"
    }
   ],
   "source": [
    "import time\n",
    "import numpy as np\n",
    "list1=[i for i in range (10000)]\n",
    "list2=[i for i in range (10000)]\n",
    "inicio = time.time()\n",
    "dot=0\n",
    "for i,j in zip (list1, list2):\n",
    "    dot+=i*j\n",
    "round(time.time()-inicio,5)"
   ]
  },
  {
   "cell_type": "code",
   "execution_count": 13,
   "id": "b82dc77a",
   "metadata": {},
   "outputs": [
    {
     "data": {
      "text/plain": [
       "0.01563"
      ]
     },
     "execution_count": 13,
     "metadata": {},
     "output_type": "execute_result"
    }
   ],
   "source": [
    "import time\n",
    "import numpy as np\n",
    "arr1=np.array([i for i in range(10000)])\n",
    "arr2=np.array([i for i in range(10000)])\n",
    "inicio = time.time()\n",
    "arr=np.dot(arr1, arr2)\n",
    "round(time.time()-inicio,5)"
   ]
  },
  {
   "cell_type": "code",
   "execution_count": 14,
   "id": "e0633fa3",
   "metadata": {},
   "outputs": [
    {
     "data": {
      "text/plain": [
       "0.0"
      ]
     },
     "execution_count": 14,
     "metadata": {},
     "output_type": "execute_result"
    }
   ],
   "source": [
    "import time\n",
    "import numpy as np\n",
    "list1=[i for i in range (10000)]\n",
    "list2=[i for i in range (10000)]\n",
    "inicio = time.time()\n",
    "list1+=list2\n",
    "round(time.time()-inicio,5)"
   ]
  },
  {
   "cell_type": "code",
   "execution_count": 15,
   "id": "99900030",
   "metadata": {},
   "outputs": [
    {
     "data": {
      "text/plain": [
       "0.0"
      ]
     },
     "execution_count": 15,
     "metadata": {},
     "output_type": "execute_result"
    }
   ],
   "source": [
    "import time\n",
    "import numpy as np\n",
    "arr1=np.array([i for i in range(10000)])\n",
    "arr2=np.array([i for i in range(10000)])\n",
    "inicio = time.time()\n",
    "arr=np.concatenate((arr1,arr2),axis=0)\n",
    "round(time.time()-inicio,5)"
   ]
  },
  {
   "cell_type": "code",
   "execution_count": 16,
   "id": "a63be1b6",
   "metadata": {},
   "outputs": [
    {
     "name": "stdout",
     "output_type": "stream",
     "text": [
      "[25.  12.  15.  66.  12.5]\n",
      "66.0\n",
      "[12. 15. 66.]\n",
      "[12.  15.  66.  12.5]\n",
      "[25. 12. 15. 66.]\n",
      "[25.  12.  15.  66.  12.5]\n",
      "- vector original\n",
      "[25.  12.  15.  66.  12.5]\n",
      "- sumarle 1 a cada elemento del vector:\n",
      "[26.  13.  16.  67.  13.5]\n",
      "- multiplicar por 5 cada elemento del vector:\n",
      "[125.   60.   75.  330.   62.5]\n",
      "- suma de los elementos:\n",
      "130.5\n",
      "- promedio (media) de los elementos:\n",
      "26.1\n",
      "- el vector sumado a si mismo:\n",
      "[ 50.  24.  30. 132.  25.]\n",
      "- suma de vectores vector1 y vector2 (mismo tamaño):\n",
      "[36.  67.  16.2 73.4  4.5]\n"
     ]
    }
   ],
   "source": [
    "lista=[25,12,15,66,12.5]\n",
    "vector=np.array(lista)\n",
    "print(vector)\n",
    "print(vector[3])\n",
    "print(vector[1:4])\n",
    "print(vector[1:])\n",
    "print(vector[:4])\n",
    "print(vector[:])\n",
    "print(\"- vector original\")\n",
    "print(vector)\n",
    "print(\"- sumarle 1 a cada elemento del vector:\")\n",
    "print(vector+1)\n",
    "print(\"- multiplicar por 5 cada elemento del vector:\")\n",
    "print(vector*5)\n",
    "print(\"- suma de los elementos:\")\n",
    "print(np.sum(vector))\n",
    "print(\"- promedio (media) de los elementos:\")\n",
    "print(np.mean(vector)) #\n",
    "print(\"- el vector sumado a si mismo:\")\n",
    "print(vector+vector)\n",
    "print(\"- suma de vectores vector1 y vector2 (mismo tamaño):\")\n",
    "vector2=np.array([11,55,1.2,7.4,-8])\n",
    "print(vector+vector2)"
   ]
  },
  {
   "cell_type": "code",
   "execution_count": 17,
   "id": "bf4f06b9",
   "metadata": {},
   "outputs": [
    {
     "name": "stdout",
     "output_type": "stream",
     "text": [
      "- Matriz creada con una lista de listas:\n",
      "[[ 1.  -4. ]\n",
      " [12.   3. ]\n",
      " [ 7.2  5. ]]\n",
      "- Matriz creada con np.zeros:\n",
      "[[0. 0. 0.]\n",
      " [0. 0. 0.]]\n",
      "- Matriz creada con np.ones:\n",
      "[[1. 1.]\n",
      " [1. 1.]\n",
      " [1. 1.]]\n",
      "- Copia de la matriz creada con np.ones:\n",
      "[[1. 1.]\n",
      " [1. 1.]\n",
      " [1. 1.]]\n"
     ]
    }
   ],
   "source": [
    "print(\"- Matriz creada con una lista de listas:\")\n",
    "lista_de_listas=[ [1 ,-4],\n",
    "[12 , 3],\n",
    "[7.2, 5]]\n",
    "matriz = np.array(lista_de_listas)\n",
    "print(matriz)\n",
    "print(\"- Matriz creada con np.zeros:\")\n",
    "dimensiones=(2,3)\n",
    "matriz_ceros = np.zeros(dimensiones)\n",
    "print(matriz_ceros)\n",
    "print(\"- Matriz creada con np.ones:\")\n",
    "dimensiones=(3,2)\n",
    "matriz_unos = np.ones(dimensiones)\n",
    "print(matriz_unos)\n",
    "#también podemos usar np.copy para copiar una matriz\n",
    "print(\"- Copia de la matriz creada con np.ones:\")\n",
    "matriz_unos_copia=np.copy(matriz_unos)\n",
    "print(matriz_unos_copia)"
   ]
  },
  {
   "cell_type": "code",
   "execution_count": 28,
   "id": "e5531b23",
   "metadata": {},
   "outputs": [
    {
     "name": "stdout",
     "output_type": "stream",
     "text": [
      "- Matriz 4x4\n",
      "[[0.5 0.5 0.5 0.5]\n",
      " [0.5 0.5 0.5 0.5]\n",
      " [0.5 0.5 0.5 0.5]\n",
      " [0.5 0.5 0.5 0.5]]\n"
     ]
    }
   ],
   "source": [
    "print(\"- Matriz 4x4\")\n",
    "dimensiones=(4,4)\n",
    "matriz_ceros = np.zeros(dimensiones)\n",
    "print(matriz_ceros+0.5)"
   ]
  },
  {
   "cell_type": "code",
   "execution_count": 29,
   "id": "a64ad397",
   "metadata": {},
   "outputs": [
    {
     "name": "stdout",
     "output_type": "stream",
     "text": [
      "[[  6  77   7  94  20]\n",
      " [ 82  79  50  90  63]\n",
      " [ 19  93  51  90  22]\n",
      " [ 38  58  20  93  42]\n",
      " [ 54 100  38  77  89]]\n"
     ]
    }
   ],
   "source": [
    "import random\n",
    "random.randint(1,101)\n",
    "matriz = np.random.randint(1, 101, size=(5,5))\n",
    "print(matriz)\n"
   ]
  },
  {
   "cell_type": "code",
   "execution_count": 30,
   "id": "bbc5c0a1",
   "metadata": {},
   "outputs": [
    {
     "data": {
      "text/plain": [
       "array([49, 48, 47, 46, 45, 44, 43, 42, 41, 40, 39, 38, 37, 36, 35, 34, 33,\n",
       "       32, 31, 30, 29, 28, 27, 26, 25, 24, 23, 22, 21, 20, 19, 18, 17, 16,\n",
       "       15, 14, 13, 12, 11, 10])"
      ]
     },
     "execution_count": 30,
     "metadata": {},
     "output_type": "execute_result"
    }
   ],
   "source": [
    "a = np.arange(10,50)\n",
    "a[::-1]\n"
   ]
  },
  {
   "cell_type": "code",
   "execution_count": 31,
   "id": "a81525ef",
   "metadata": {},
   "outputs": [
    {
     "data": {
      "text/plain": [
       "array([[0, 1, 2],\n",
       "       [3, 4, 5],\n",
       "       [6, 7, 8]])"
      ]
     },
     "execution_count": 31,
     "metadata": {},
     "output_type": "execute_result"
    }
   ],
   "source": [
    "np.arange(0,9).reshape(3,3)"
   ]
  },
  {
   "cell_type": "code",
   "execution_count": 32,
   "id": "5f614e0e",
   "metadata": {},
   "outputs": [
    {
     "data": {
      "text/plain": [
       "array([[1., 0., 0., 0., 0., 0.],\n",
       "       [0., 1., 0., 0., 0., 0.],\n",
       "       [0., 0., 1., 0., 0., 0.],\n",
       "       [0., 0., 0., 1., 0., 0.],\n",
       "       [0., 0., 0., 0., 1., 0.],\n",
       "       [0., 0., 0., 0., 0., 1.]])"
      ]
     },
     "execution_count": 32,
     "metadata": {},
     "output_type": "execute_result"
    }
   ],
   "source": [
    "np.identity(6)"
   ]
  },
  {
   "cell_type": "code",
   "execution_count": 35,
   "id": "ca645b92",
   "metadata": {},
   "outputs": [
    {
     "data": {
      "text/plain": [
       "array([[[0.7320317 , 0.9255968 , 0.46440156],\n",
       "        [0.44594186, 0.80229922, 0.43019821],\n",
       "        [0.54996083, 0.90908036, 0.83588105]],\n",
       "\n",
       "       [[0.11452036, 0.30545286, 0.73044656],\n",
       "        [0.68645533, 0.58753541, 0.81620405],\n",
       "        [0.428721  , 0.11419019, 0.14672418]],\n",
       "\n",
       "       [[0.89252858, 0.81669207, 0.97437678],\n",
       "        [0.57394631, 0.76630808, 0.70663612],\n",
       "        [0.61011006, 0.43805407, 0.27263288]]])"
      ]
     },
     "execution_count": 35,
     "metadata": {},
     "output_type": "execute_result"
    }
   ],
   "source": [
    "r = np.random.random((3,3,3))\n",
    "r"
   ]
  },
  {
   "cell_type": "code",
   "execution_count": 36,
   "id": "d93860e9",
   "metadata": {},
   "outputs": [
    {
     "name": "stdout",
     "output_type": "stream",
     "text": [
      "20\n",
      "0.9743767768300328\n",
      "[[[0.7320317  0.9255968  0.46440156]\n",
      "  [0.44594186 0.80229922 0.43019821]\n",
      "  [0.54996083 0.90908036 0.83588105]]\n",
      "\n",
      " [[0.11452036 0.30545286 0.73044656]\n",
      "  [0.68645533 0.58753541 0.81620405]\n",
      "  [0.428721   0.11419019 0.14672418]]\n",
      "\n",
      " [[0.89252858 0.81669207 0.97437678]\n",
      "  [0.57394631 0.76630808 0.70663612]\n",
      "  [0.61011006 0.43805407 0.27263288]]]\n",
      "(2, 0, 2)\n"
     ]
    },
    {
     "data": {
      "text/plain": [
       "0.9743767768300328"
      ]
     },
     "execution_count": 36,
     "metadata": {},
     "output_type": "execute_result"
    }
   ],
   "source": [
    "print( r.argmax() )\n",
    "print( r.ravel()[r.argmax()] )\n",
    "print(r)\n",
    "print(np.unravel_index(r.argmax(), r.shape))\n",
    "r[np.unravel_index(r.argmax(), r.shape)]"
   ]
  },
  {
   "cell_type": "code",
   "execution_count": 37,
   "id": "48df2076",
   "metadata": {},
   "outputs": [
    {
     "data": {
      "text/plain": [
       "array([[1., 1., 1., 1., 1., 1., 1., 1., 1., 1.],\n",
       "       [1., 0., 0., 0., 0., 0., 0., 0., 0., 1.],\n",
       "       [1., 0., 0., 0., 0., 0., 0., 0., 0., 1.],\n",
       "       [1., 0., 0., 0., 0., 0., 0., 0., 0., 1.],\n",
       "       [1., 0., 0., 0., 0., 0., 0., 0., 0., 1.],\n",
       "       [1., 0., 0., 0., 0., 0., 0., 0., 0., 1.],\n",
       "       [1., 0., 0., 0., 0., 0., 0., 0., 0., 1.],\n",
       "       [1., 0., 0., 0., 0., 0., 0., 0., 0., 1.],\n",
       "       [1., 0., 0., 0., 0., 0., 0., 0., 0., 1.],\n",
       "       [1., 1., 1., 1., 1., 1., 1., 1., 1., 1.]])"
      ]
     },
     "execution_count": 37,
     "metadata": {},
     "output_type": "execute_result"
    }
   ],
   "source": [
    "z = np.ones((10,10))\n",
    "z[1:-1,1:-1] = 0\n",
    "z"
   ]
  },
  {
   "cell_type": "code",
   "execution_count": 46,
   "id": "1343ab2b",
   "metadata": {},
   "outputs": [],
   "source": [
    "# Tomar el tiempo d ela multiplicacion de las siguientes dimenciones:10x10, 100x100, 1000x1000 . Guardar los tiempos en un archivo de texto\n",
    "import time\n",
    "import numpy as np\n",
    "\n",
    "archivo_tiempo = open(\"tiempos.txt\", \"w\")\n",
    "for dim in dimensiones:\n",
    "    matriz1=np.random.randint(1,100,size=(dim,dim)) \n",
    "    matriz2=np.random.randint(1,100,size=(dim,dim))\n",
    "    matriz3=np.random.randint(1,100,size=(dim,dim))\n",
    "    inicio = time.time()\n",
    "    matriz = np.dot(matriz1, matriz2)\n",
    "    tiempo = round(time.time() - inicio, 5)\n",
    "\n",
    "    archivo_tiempo.write(f\"Dimensiones: {dim}x{dim}, Tiempo: {tiempo} segundos\\n\")\n",
    "archivo_tiempo.close()\n",
    "        "
   ]
  }
 ],
 "metadata": {
  "kernelspec": {
   "display_name": "Python 3 (ipykernel)",
   "language": "python",
   "name": "python3"
  },
  "language_info": {
   "codemirror_mode": {
    "name": "ipython",
    "version": 3
   },
   "file_extension": ".py",
   "mimetype": "text/x-python",
   "name": "python",
   "nbconvert_exporter": "python",
   "pygments_lexer": "ipython3",
   "version": "3.10.9"
  }
 },
 "nbformat": 4,
 "nbformat_minor": 5
}
